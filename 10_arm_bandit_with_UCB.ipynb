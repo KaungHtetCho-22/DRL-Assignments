{
 "cells": [
  {
   "cell_type": "code",
   "execution_count": 7,
   "metadata": {},
   "outputs": [],
   "source": [
    "import random\n",
    "import numpy as np\n",
    "import matplotlib.pyplot as plt"
   ]
  },
  {
   "cell_type": "code",
   "execution_count": 8,
   "metadata": {},
   "outputs": [],
   "source": [
    "n      = 10 # number of arms\n",
    "probs  = np.random.rand(n) # randomly generated probabilites for each arm\n",
    "record = np.zeros((n,2))  #first column: counts, second column: rewards"
   ]
  },
  {
   "cell_type": "code",
   "execution_count": 9,
   "metadata": {},
   "outputs": [],
   "source": [
    "# select arm hightest average rewards with UCB c = 1 \n",
    "\n",
    "def get_best_arm(record, t, c=1):\n",
    "\n",
    "    ucb_values = np.zeros(n)\n",
    "    \n",
    "    for arm in range(n):\n",
    "        if record[arm, 0] == 0:\n",
    "            ucb_values[arm] = 1e400  # Assign a very high value if the arm hasn't been played\n",
    "        else:\n",
    "            average_reward = record[arm, 1] / record[arm, 0]\n",
    "            ucb_values[arm] = average_reward + c * np.sqrt(2 * np.log(t) / record[arm, 0])\n",
    "    return np.argmax(ucb_values)"
   ]
  },
  {
   "cell_type": "code",
   "execution_count": 10,
   "metadata": {},
   "outputs": [],
   "source": [
    "# Updates the record for an arm with new reward\n",
    "\n",
    "def update_record(record, action, r):\n",
    "    record[action, 0] += 1  # Update the count for this arm\n",
    "    record[action, 1] += r  # Update the sum of rewards for this arm\n",
    "    return record"
   ]
  },
  {
   "cell_type": "code",
   "execution_count": 11,
   "metadata": {},
   "outputs": [],
   "source": [
    " # Simulates the reward for an arm based on its probability\n",
    "\n",
    "def get_reward(prob, n=10):\n",
    "    reward = 0\n",
    "    for _ in range(n):\n",
    "        if random.random() <= prob:\n",
    "            reward += 1\n",
    "    return reward"
   ]
  },
  {
   "cell_type": "code",
   "execution_count": 12,
   "metadata": {},
   "outputs": [
    {
     "data": {
      "image/png": "[encoded data removed]",
      "text/plain": [
       "<Figure size 900x500 with 1 Axes>"
      ]
     },
     "metadata": {},
     "output_type": "display_data"
    }
   ],
   "source": [
    "# Plotting setup\n",
    "fig, ax = plt.subplots(1, 1)\n",
    "ax.set_xlabel(\"Plays\")\n",
    "ax.set_ylabel(\"Avg Reward\")\n",
    "fig.set_size_inches(9, 5)\n",
    "rewards = [0]\n",
    "\n",
    "for i in range(1, 501):\n",
    "\n",
    "    choice = get_best_arm(record, i) # epsilon-greedy policy: most of the time choose the best arm\n",
    "    r      = get_reward(probs[choice]) # get the reward for chosen arm\n",
    "    record = update_record(record, choice, r) # udpate the record with new record\n",
    "\n",
    "    mean_reward = np.sum(record[:, 1]) / i # calculat the mean reward\n",
    "    rewards.append(mean_reward)\n",
    "\n",
    "    ax.scatter(np.arange(len(rewards)), rewards)\n",
    "\n",
    "plt.show()"
   ]
  },
  {
   "cell_type": "code",
   "execution_count": null,
   "metadata": {},
   "outputs": [],
   "source": []
  }
 ],
 "metadata": {
  "kernelspec": {
   "display_name": "Python 3",
   "language": "python",
   "name": "python3"
  },
  "language_info": {
   "codemirror_mode": {
    "name": "ipython",
    "version": 3
   },
   "file_extension": ".py",
   "mimetype": "text/x-python",
   "name": "python",
   "nbconvert_exporter": "python",
   "pygments_lexer": "ipython3",
   "version": "3.11.6"
  }
 },
 "nbformat": 4,
 "nbformat_minor": 2
}

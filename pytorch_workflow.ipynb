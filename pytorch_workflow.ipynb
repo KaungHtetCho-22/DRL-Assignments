{
 "cells": [
  {
   "cell_type": "markdown",
   "metadata": {},
   "source": [
    "## 1. Import libraries"
   ]
  },
  {
   "cell_type": "code",
   "execution_count": 1,
   "metadata": {},
   "outputs": [],
   "source": [
    "import torch\n",
    "import matplotlib.pyplot as plt\n",
    "import torch.nn as nn\n",
    "import torch.optim as optim"
   ]
  },
  {
   "cell_type": "code",
   "execution_count": 2,
   "metadata": {},
   "outputs": [
    {
     "name": "stdout",
     "output_type": "stream",
     "text": [
      "cuda\n"
     ]
    }
   ],
   "source": [
    "device = 'cuda' if torch.cuda.is_available() else 'cpu'\n",
    "print(device)"
   ]
  },
  {
   "cell_type": "markdown",
   "metadata": {},
   "source": [
    "## 2. Data"
   ]
  },
  {
   "cell_type": "code",
   "execution_count": 3,
   "metadata": {},
   "outputs": [],
   "source": [
    "# create known parameters\n",
    "weight1 = 0.5\n",
    "weight2 = 0.1\n",
    "bias   = 0.3\n",
    "\n",
    "# create data\n",
    "start = 0\n",
    "end   = 1\n",
    "step  = 0.02\n",
    "X     = torch.arange(start, end, step).unsqueeze(1)\n",
    "y     = weight1 * X * X + weight2 * X + bias"
   ]
  },
  {
   "cell_type": "code",
   "execution_count": 4,
   "metadata": {},
   "outputs": [
    {
     "data": {
      "text/plain": [
       "(tensor([[0.0000],\n",
       "         [0.0200],\n",
       "         [0.0400],\n",
       "         [0.0600],\n",
       "         [0.0800],\n",
       "         [0.1000],\n",
       "         [0.1200],\n",
       "         [0.1400],\n",
       "         [0.1600],\n",
       "         [0.1800]]),\n",
       " tensor([[0.3000],\n",
       "         [0.3022],\n",
       "         [0.3048],\n",
       "         [0.3078],\n",
       "         [0.3112],\n",
       "         [0.3150],\n",
       "         [0.3192],\n",
       "         [0.3238],\n",
       "         [0.3288],\n",
       "         [0.3342]]))"
      ]
     },
     "execution_count": 4,
     "metadata": {},
     "output_type": "execute_result"
    }
   ],
   "source": [
    "X[:10], y[:10]"
   ]
  },
  {
   "cell_type": "code",
   "execution_count": 5,
   "metadata": {},
   "outputs": [
    {
     "data": {
      "text/plain": [
       "(40, 40, 10, 10)"
      ]
     },
     "execution_count": 5,
     "metadata": {},
     "output_type": "execute_result"
    }
   ],
   "source": [
    "train_split      = int(0.8 * len(X))\n",
    "X_train, y_train = X [ :train_split], y[ :train_split]\n",
    "X_test, y_test   = X [train_split: ], y[train_split: ]\n",
    "\n",
    "len(X_train), len(y_train), len(X_test), len(y_test)"
   ]
  },
  {
   "cell_type": "markdown",
   "metadata": {},
   "source": [
    "## 3. Model"
   ]
  },
  {
   "cell_type": "code",
   "execution_count": 6,
   "metadata": {},
   "outputs": [],
   "source": [
    "class LinearRegressionModel(nn.Module):\n",
    "\n",
    "    def __init__ (self):\n",
    "        super().__init__()\n",
    "        self.weight1 = nn.Parameter(torch.randn(1, dtype = torch.float), requires_grad = True)\n",
    "        self.weight2 = nn.Parameter(torch.randn(1, dtype = torch.float), requires_grad = True)\n",
    "        self.bias    = nn.Parameter(torch.randn(1, dtype = torch.float), requires_grad = True)\n",
    "\n",
    "    def forward (self, x: torch.Tensor):\n",
    "        slope = self.weight1 * x * x + self.weight2 * x + self.bias\n",
    "        return slope"
   ]
  },
  {
   "cell_type": "code",
   "execution_count": 7,
   "metadata": {},
   "outputs": [
    {
     "data": {
      "text/plain": [
       "OrderedDict([('weight1', tensor([0.7906])),\n",
       "             ('weight2', tensor([-0.6410])),\n",
       "             ('bias', tensor([0.1660]))])"
      ]
     },
     "execution_count": 7,
     "metadata": {},
     "output_type": "execute_result"
    }
   ],
   "source": [
    "torch.manual_seed(41)\n",
    "model = LinearRegressionModel()\n",
    "model.state_dict()"
   ]
  },
  {
   "cell_type": "code",
   "execution_count": 8,
   "metadata": {},
   "outputs": [
    {
     "data": {
      "text/plain": [
       "LinearRegressionModel()"
      ]
     },
     "execution_count": 8,
     "metadata": {},
     "output_type": "execute_result"
    }
   ],
   "source": [
    "model.to(device)"
   ]
  },
  {
   "cell_type": "code",
   "execution_count": 9,
   "metadata": {},
   "outputs": [
    {
     "data": {
      "text/plain": [
       "device(type='cuda', index=0)"
      ]
     },
     "execution_count": 9,
     "metadata": {},
     "output_type": "execute_result"
    }
   ],
   "source": [
    "next(model.parameters()).device"
   ]
  },
  {
   "cell_type": "markdown",
   "metadata": {},
   "source": [
    "## 4. Training"
   ]
  },
  {
   "cell_type": "code",
   "execution_count": 10,
   "metadata": {},
   "outputs": [],
   "source": [
    "loss_fn   = nn.L1Loss()\n",
    "optimizer = optim.SGD(model.parameters(), lr = 0.01)"
   ]
  },
  {
   "cell_type": "code",
   "execution_count": 11,
   "metadata": {},
   "outputs": [
    {
     "name": "stdout",
     "output_type": "stream",
     "text": [
      "Epoch: 0 | Train loss: 0.3632608950138092 | Test loss: 0.5472081303596497\n",
      "Epoch: 100 | Train loss: 0.02962702326476574 | Test loss: 0.03922642022371292\n",
      "Epoch: 200 | Train loss: 0.02056671492755413 | Test loss: 0.0792621299624443\n",
      "Epoch: 300 | Train loss: 0.019105849787592888 | Test loss: 0.08673802018165588\n",
      "Epoch: 400 | Train loss: 0.01814126782119274 | Test loss: 0.08268474787473679\n",
      "Epoch: 500 | Train loss: 0.017174985259771347 | Test loss: 0.07831365615129471\n",
      "Epoch: 600 | Train loss: 0.016210339963436127 | Test loss: 0.07363712787628174\n",
      "Epoch: 700 | Train loss: 0.015244080685079098 | Test loss: 0.06957770138978958\n",
      "Epoch: 800 | Train loss: 0.014278664253652096 | Test loss: 0.06490115821361542\n",
      "Epoch: 900 | Train loss: 0.013313177041709423 | Test loss: 0.06084173917770386\n"
     ]
    }
   ],
   "source": [
    "epochs = 1000 \n",
    "\n",
    "# Put data on the available device\n",
    "X_train = X_train.to(device)\n",
    "X_test = X_test.to(device)\n",
    "y_train = y_train.to(device)\n",
    "y_test = y_test.to(device)\n",
    "\n",
    "for epoch in range(epochs):\n",
    "    ### Training\n",
    "    model.train() # train mode is on by default after construction\n",
    "\n",
    "    # 1. Forward pass\n",
    "    y_pred = model(X_train)\n",
    "\n",
    "    # 2. Calculate loss\n",
    "    loss = loss_fn(y_pred, y_train)\n",
    "\n",
    "    # 3. Zero grad optimizer\n",
    "    optimizer.zero_grad()\n",
    "\n",
    "    # 4. Loss backward\n",
    "    loss.backward()\n",
    "\n",
    "    # 5. Step the optimizer\n",
    "    optimizer.step()\n",
    "\n",
    "    ### Testing\n",
    "    model.eval() # put the model in evaluation mode for testing (inference)\n",
    "    # 1. Forward pass\n",
    "    with torch.inference_mode():\n",
    "        test_pred = model(X_test)\n",
    "    \n",
    "        # 2. Calculate the loss\n",
    "        test_loss = loss_fn(test_pred, y_test)\n",
    "\n",
    "    if epoch % 100 == 0:\n",
    "        print(f\"Epoch: {epoch} | Train loss: {loss} | Test loss: {test_loss}\")"
   ]
  },
  {
   "cell_type": "code",
   "execution_count": 12,
   "metadata": {},
   "outputs": [
    {
     "name": "stdout",
     "output_type": "stream",
     "text": [
      "The model learned the following values for weights and bias:\n",
      "OrderedDict([('weight1', tensor([0.8033], device='cuda:0')),\n",
      "             ('weight2', tensor([-0.1534], device='cuda:0')),\n",
      "             ('bias', tensor([0.3410], device='cuda:0'))])\n",
      "\n",
      "And the original values for weights and bias are:\n",
      "weight1: 0.5, weight2: 0.1, bias: 0.3\n"
     ]
    }
   ],
   "source": [
    "# Find our model's learned parameters\n",
    "from pprint import pprint # pprint = pretty print, see: https://docs.python.org/3/library/pprint.html \n",
    "print(\"The model learned the following values for weights and bias:\")\n",
    "pprint(model.state_dict())\n",
    "print(\"\\nAnd the original values for weights and bias are:\")\n",
    "print(f\"weight1: {weight1}, weight2: {weight2}, bias: {bias}\")"
   ]
  },
  {
   "cell_type": "markdown",
   "metadata": {},
   "source": [
    "## Prediction"
   ]
  },
  {
   "cell_type": "code",
   "execution_count": 13,
   "metadata": {},
   "outputs": [
    {
     "data": {
      "text/plain": [
       "tensor([[0.7325],\n",
       "        [0.7554],\n",
       "        [0.7790],\n",
       "        [0.8033],\n",
       "        [0.8282],\n",
       "        [0.8537],\n",
       "        [0.8799],\n",
       "        [0.9067],\n",
       "        [0.9341],\n",
       "        [0.9622]], device='cuda:0')"
      ]
     },
     "execution_count": 13,
     "metadata": {},
     "output_type": "execute_result"
    }
   ],
   "source": [
    "# Turn model into evaluation mode\n",
    "model.eval()\n",
    "\n",
    "# Make predictions on the test data\n",
    "with torch.no_grad():\n",
    "    y_preds = model(X_test)\n",
    "    \n",
    "y_preds"
   ]
  },
  {
   "cell_type": "markdown",
   "metadata": {},
   "source": [
    "## Plot the predictions"
   ]
  },
  {
   "cell_type": "code",
   "execution_count": 16,
   "metadata": {},
   "outputs": [],
   "source": [
    "def plot_predictions(train_data   = X_train.cpu(), \n",
    "                     train_labels = y_train.cpu(), \n",
    "                     test_data    = X_test.cpu(), \n",
    "                     test_labels  = y_test.cpu(), \n",
    "                     predictions  = None):\n",
    "\n",
    "    plt.figure(figsize=(7,5))\n",
    "    plt.scatter(train_data, train_labels, c = \"b\", s = 4, label = \"Training data\")\n",
    "    plt.scatter(test_data, test_labels, c = \"g\", s = 4, label = \"Testing data\")\n",
    "\n",
    "    if predictions is not None:\n",
    "      # Plot the predictions in red (predictions were made on the test data)\n",
    "      plt.scatter(test_data, predictions, c = \"r\", s = 4, label = \"Predictions\")\n",
    "      \n",
    "    plt.legend(prop={\"size\": 10})"
   ]
  },
  {
   "cell_type": "code",
   "execution_count": 17,
   "metadata": {},
   "outputs": [
    {
     "data": {
      "image/png": "[encoded data removed]",
      "text/plain": [
       "<Figure size 700x500 with 1 Axes>"
      ]
     },
     "metadata": {},
     "output_type": "display_data"
    }
   ],
   "source": [
    "plot_predictions(predictions = y_preds.cpu())"
   ]
  },
  {
   "cell_type": "markdown",
   "metadata": {},
   "source": [
    "## Save model"
   ]
  },
  {
   "cell_type": "code",
   "execution_count": 18,
   "metadata": {},
   "outputs": [
    {
     "name": "stdout",
     "output_type": "stream",
     "text": [
      "Saving model to: models/model1.pth\n"
     ]
    }
   ],
   "source": [
    "from pathlib import Path\n",
    "\n",
    "# 1. Create models directory \n",
    "MODEL_PATH = Path(\"models\")\n",
    "MODEL_PATH.mkdir(parents=True, exist_ok=True)\n",
    "\n",
    "# 2. Create model save path \n",
    "MODEL_NAME = \"model1.pth\"\n",
    "MODEL_SAVE_PATH = MODEL_PATH / MODEL_NAME\n",
    "\n",
    "# 3. Save the model state dict \n",
    "print(f\"Saving model to: {MODEL_SAVE_PATH}\")\n",
    "torch.save(obj=model.state_dict(), # only saving the state_dict() only saves the models learned parameters\n",
    "           f=MODEL_SAVE_PATH) "
   ]
  },
  {
   "cell_type": "markdown",
   "metadata": {},
   "source": [
    "## Load model"
   ]
  },
  {
   "cell_type": "code",
   "execution_count": 19,
   "metadata": {},
   "outputs": [
    {
     "name": "stdout",
     "output_type": "stream",
     "text": [
      "Loaded model:\n",
      "LinearRegressionModel()\n",
      "Model on device:\n",
      "cuda:0\n"
     ]
    }
   ],
   "source": [
    "# Instantiate a fresh instance of LinearRegressionModel\n",
    "loaded_model = LinearRegressionModel()\n",
    "\n",
    "# Load model state dict \n",
    "loaded_model.load_state_dict(torch.load(MODEL_SAVE_PATH))\n",
    "\n",
    "# Put model to target device (if your data is on GPU, model will have to be on GPU to make predictions)\n",
    "loaded_model.to(device)\n",
    "\n",
    "print(f\"Loaded model:\\n{loaded_model}\")\n",
    "print(f\"Model on device:\\n{next(loaded_model.parameters()).device}\")"
   ]
  }
 ],
 "metadata": {
  "kernelspec": {
   "display_name": "Python 3",
   "language": "python",
   "name": "python3"
  },
  "language_info": {
   "codemirror_mode": {
    "name": "ipython",
    "version": 3
   },
   "file_extension": ".py",
   "mimetype": "text/x-python",
   "name": "python",
   "nbconvert_exporter": "python",
   "pygments_lexer": "ipython3",
   "version": "3.11.6"
  }
 },
 "nbformat": 4,
 "nbformat_minor": 2
}
